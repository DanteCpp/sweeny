{
 "metadata": {
  "name": "Sweeny_Code_Test"
 },
 "nbformat": 3,
 "nbformat_minor": 0,
 "worksheets": [
  {
   "cells": [
    {
     "cell_type": "markdown",
     "metadata": {},
     "source": [
      "Compare numerical results from RCM Monte Carlo simulation for the Ising model in $2$d with exact results\n",
      "--------------------------------------------------------------------------------------------------------\n",
      "Note that this na\u00efve notebook/test does not replace proper analysis/code checking. Here are some reasons why:\n",
      "\n",
      "* No error-bars\n",
      "* Small number of observables (actually only two)\n",
      "* Only the special case $q=2$\n",
      "* Only qualitative not quantitative \n",
      "* You are anyway never sure that your program has no bugs\n",
      "\n",
      "_Of course you need to adapt this notebook, i.e. provide a path to exact results."
     ]
    },
    {
     "cell_type": "code",
     "collapsed": false,
     "input": [
      "%pylab inline"
     ],
     "language": "python",
     "metadata": {},
     "outputs": [
      {
       "output_type": "stream",
       "stream": "stdout",
       "text": [
        "\n",
        "Welcome to pylab, a matplotlib-based Python environment [backend: module://IPython.zmq.pylab.backend_inline].\n",
        "For more information, type 'help(pylab)'.\n"
       ]
      }
     ],
     "prompt_number": 1
    },
    {
     "cell_type": "code",
     "collapsed": false,
     "input": [
      "cd /home/eren/Research/Simulations/Sweeny_DC_Code/python_interface/"
     ],
     "language": "python",
     "metadata": {},
     "outputs": [
      {
       "output_type": "stream",
       "stream": "stdout",
       "text": [
        "/home/eren/Research/Simulations/Sweeny_DC_Code/python_interface\n"
       ]
      }
     ],
     "prompt_number": 2
    },
    {
     "cell_type": "code",
     "collapsed": false,
     "input": [
      "from sweeny import Sweeny\n",
      "import numpy as np\n",
      "beta_c = np.log(1 + np.sqrt(2))/2.\n",
      "betas = np.empty(11)\n",
      "betas[:10] = np.linspace(beta_c-.3,beta_c+.3,10)\n",
      "betas[10] = beta_c\n",
      "bonds = np.empty_like(betas)\n",
      "bonds_sq = np.empty_like(bonds)\n",
      "L=64\n",
      "N=L**2\n",
      "sy = Sweeny(2,L,beta_c,2.,1000,10000,1234567,impl='ibfs')\n",
      "for i,b in enumerate(betas):\n",
      "    sy.init_sim(2,L,b,2.,1000,10000,1234567,impl='ibfs')\n",
      "    sy.simulate()\n",
      "    num_bonds = sy.ts_num_bonds\n",
      "    bonds[i] = num_bonds.mean()\n",
      "    p = 1.-np.exp(-2.*b)\n",
      "    num_bonds *= num_bonds\n",
      "    bonds_sq[i] =num_bonds.mean()\n",
      "    bonds_sq[i] = (bonds_sq[i] - bonds[i]**2 - (1. -p)*bonds[i])*(2*b)**2/(p**2*N)\n",
      "    bonds[i] *= 2/(N*p)\n",
      "bonds -= 2\n",
      "del sy\n",
      "plt.plot(betas,bonds,\"o\",color=\"orange\",alpha=.3)\n",
      "plt.plot(betas,bonds_sq,\"s\",color=\"blue\",alpha=.3)\n",
      "exact_u = np.loadtxt(\"/home/eren/Research/Exact/Ising_2d/verlaeufe/2d_e0{}.plo\".format(L)) \n",
      "exact_c = np.loadtxt(\"/home/eren/Research/Exact/Ising_2d/verlaeufe/2d_c0{}.plo\".format(L))\n",
      "plt.plot(exact_u[:,0],exact_u[:,1],color=\"orange\",linewidth=5,alpha=.3)\n",
      "plt.plot(exact_c[:,0],exact_c[:,1],color=\"blue\",linewidth=5,alpha=.3)\n",
      "ax = gca()\n",
      "ax.set_xlim(min(betas),max(betas))\n",
      "ax.set_xlabel(r\"$\\beta$\")\n",
      "ax.set_ylabel(r\"$u$,$c_H$\")"
     ],
     "language": "python",
     "metadata": {},
     "outputs": [
      {
       "output_type": "stream",
       "stream": "stdout",
       "text": [
        "[ 0.14068679  0.20735346  0.27402013  0.34068679  0.40735346  0.47402013\n",
        "  0.54068679  0.60735346  0.67402013  0.74068679  0.44068679]\n"
       ]
      },
      {
       "output_type": "pyout",
       "prompt_number": 7,
       "text": [
        "(0.14068679350977148, 0.7406867935097714)"
       ]
      },
      {
       "output_type": "display_data",
       "png": "[encoded data removed]"
      }
     ],
     "prompt_number": 7
    },
    {
     "cell_type": "code",
     "collapsed": false,
     "input": [],
     "language": "python",
     "metadata": {},
     "outputs": []
    }
   ],
   "metadata": {}
  }
 ]
}