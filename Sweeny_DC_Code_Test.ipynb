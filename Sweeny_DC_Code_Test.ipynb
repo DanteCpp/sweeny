{
 "metadata": {
  "name": "Sweeny_DC_Code_Test"
 },
 "nbformat": 3,
 "nbformat_minor": 0,
 "worksheets": [
  {
   "cells": [
    {
     "cell_type": "markdown",
     "metadata": {},
     "source": [
      "Compare numerical results from RCM Monte Carlo simulation for the Ising model in $2$d with exact results\n",
      "--------------------------------------------------------------------------------------------------------\n",
      "Note that this na\u00efve notebook/test does not replace proper analysis/code checking. Here are some reasons why:\n",
      "\n",
      "* No error-bars\n",
      "* Small number of observables (actually only two)\n",
      "* Only the special case $q=2$\n",
      "* Only qualitative not quantitative \n",
      "* You are anyway never sure that your program has no bugs\n",
      "\n",
      "_Of course you need to adapt this notebook, i.e. provide a path to exact results and simulation data_."
     ]
    },
    {
     "cell_type": "code",
     "collapsed": false,
     "input": [
      "%pylab inline"
     ],
     "language": "python",
     "metadata": {},
     "outputs": []
    },
    {
     "cell_type": "code",
     "collapsed": false,
     "input": [
      "cd /home/eren/Research/Simulations/Sweeny_DC_Code/time_series/"
     ],
     "language": "python",
     "metadata": {},
     "outputs": []
    },
    {
     "cell_type": "code",
     "collapsed": false,
     "input": [
      "import h5py\n",
      "import glob\n",
      "L = 32\n",
      "algos = ((\"dc\",\"o\",\"DC\"),(\"uf\",\"s\",\"UF\"),(\"ifbs\",\"v\",\"IFBS\"),(\"sbfs\",\"d\",\"SBFS\"))\n",
      "for algo,mark,lbl in algos:\n",
      "    temp_files = glob.glob(\"./{}/simulation_l{}_q2.0000_b*_c2.0000_s123456.hdf5\".format(algo,L))\n",
      "    dat = np.empty((3,len(temp_files)),dtype=np.float64)\n",
      "    N = L**2\n",
      "    for i,tf in enumerate(temp_files):\n",
      "        f = h5py.File(tf,\"r\")\n",
      "        a = np.array(f['num_bonds'])\n",
      "        mean = a.mean()\n",
      "        a *= a\n",
      "        mean_sq = a.mean()\n",
      "        dat[0,i] = f['num_bonds'].attrs['beta']\n",
      "        p = 1.-np.exp(-2.*dat[0,i])\n",
      "        dat[1,i] = 2*mean/(N *p )\n",
      "        dat[2,i] = (mean_sq - mean**2 - (1. -p)*mean)*(2*dat[0,i])**2/(p**2*N)\n",
      "        f.close()\n",
      "    dat[1,:] -= 2\n",
      "    exact_u = np.loadtxt(\"/home/eren/Research/Exact/Ising_2d/verlaeufe/2d_e0{}.plo\".format(L)) \n",
      "    exact_c = np.loadtxt(\"/home/eren/Research/Exact/Ising_2d/verlaeufe/2d_c0{}.plo\".format(L))\n",
      "    plt.plot(dat[0,:],dat[1,:],mark,color=\"red\",alpha=.5)\n",
      "    plt.plot(dat[0,:],dat[2,:],mark,color=\"blue\",alpha=.5,label=lbl)\n",
      "plt.plot(exact_u[:,0],exact_u[:,1],color=\"red\",linewidth=5,alpha=.3,label=r\"$-u$\")\n",
      "plt.plot(exact_c[:,0],exact_c[:,1],color=\"blue\",linewidth=5,alpha=.3,label=r\"$c_v$\")\n",
      "ax = gca()\n",
      "ax.legend(loc=\"best\")\n",
      "ax.set_xlabel(r\"$\\beta$\")\n",
      "ax.set_title(r\"Heat-capacity and internal energy\")\n",
      "ax.plot([np.log(1 + np.sqrt(2))/2.,np.log(1 + np.sqrt(2))/2.],[0.,2.5],linestyle=\":\",color=\"black\")\n",
      "plt.show()"
     ],
     "language": "python",
     "metadata": {},
     "outputs": []
    },
    {
     "cell_type": "code",
     "collapsed": false,
     "input": [
      "\n",
      "for algo,mark,lbl in algos:\n",
      "    temp_files = glob.glob(\"./{}/simulation_l{}_q2.0000_b*_c2.0000_s123456.hdf5\".format(algo,L))\n",
      "    dat = np.empty((2,len(temp_files)),dtype=np.float64)\n",
      "    \n",
      "    for i,tf in enumerate(temp_files):\n",
      "        f = h5py.File(tf,\"r\")\n",
      "        a = np.array(f['size_giant'])\n",
      "        mean = a.mean()\n",
      "        dat[0,i] = f['num_bonds'].attrs['beta']\n",
      "        dat[1,i] = mean/N\n",
      "        f.close()\n",
      "    plt.plot(dat[0,:],dat[1,:],mark,color=\"orange\",alpha=.3,label=lbl)\n",
      "plt.plot([np.log(1 + np.sqrt(2))/2.,np.log(1 + np.sqrt(2))/2.],[0.,1.],linestyle=\":\",color=\"black\")\n",
      "ax = gca()\n",
      "ax.legend(loc=\"best\")\n",
      "ax.set_title(\"Size of giant component\")\n",
      "ax.set_xlabel(r\"$\\beta$\")\n",
      "ax.set_ylabel(r\"$C_1(\\beta)$\")\n",
      "#ax.plot([np.log(1 + np.sqrt(2))/2.,np.log(1 + np.sqrt(2))/2.],[0.,2.5],linestyle=\":\",color=\"black\")\n",
      "plt.show()"
     ],
     "language": "python",
     "metadata": {},
     "outputs": []
    }
   ],
   "metadata": {}
  }
 ]
}